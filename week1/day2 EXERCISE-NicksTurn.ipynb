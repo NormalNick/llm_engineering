{
 "cells": [
  {
   "cell_type": "markdown",
   "id": "d15d8294-3328-4e07-ad16-8a03e9bbfdb9",
   "metadata": {},
   "source": [
    "# Welcome to your first assignment!\n",
    "\n",
    "Instructions are below. Please give this a try, and look in the solutions folder if you get stuck (or feel free to ask me!)"
   ]
  },
  {
   "cell_type": "markdown",
   "id": "ada885d9-4d42-4d9b-97f0-74fbbbfe93a9",
   "metadata": {
    "jp-MarkdownHeadingCollapsed": true
   },
   "source": [
    "<table style=\"margin: 0; text-align: left;\">\n",
    "    <tr>\n",
    "        <td style=\"width: 150px; height: 150px; vertical-align: middle;\">\n",
    "            <img src=\"../resources.jpg\" width=\"150\" height=\"150\" style=\"display: block;\" />\n",
    "        </td>\n",
    "        <td>\n",
    "            <h2 style=\"color:#f71;\">Just before we get to the assignment --</h2>\n",
    "            <span style=\"color:#f71;\">I thought I'd take a second to point you at this page of useful resources for the course. This includes links to all the slides.<br/>\n",
    "            <a href=\"https://edwarddonner.com/2024/11/13/llm-engineering-resources/\">https://edwarddonner.com/2024/11/13/llm-engineering-resources/</a><br/>\n",
    "            Please keep this bookmarked, and I'll continue to add more useful links there over time.\n",
    "            </span>\n",
    "        </td>\n",
    "    </tr>\n",
    "</table>"
   ]
  },
  {
   "cell_type": "markdown",
   "id": "6e9fa1fc-eac5-4d1d-9be4-541b3f2b3458",
   "metadata": {},
   "source": [
    "# HOMEWORK EXERCISE ASSIGNMENT\n",
    "\n",
    "Upgrade the day 1 project to summarize a webpage to use an Open Source model running locally via Ollama rather than OpenAI\n",
    "\n",
    "You'll be able to use this technique for all subsequent projects if you'd prefer not to use paid APIs.\n",
    "\n",
    "**Benefits:**\n",
    "1. No API charges - open-source\n",
    "2. Data doesn't leave your box\n",
    "\n",
    "**Disadvantages:**\n",
    "1. Significantly less power than Frontier Model\n",
    "\n",
    "## Recap on installation of Ollama\n",
    "\n",
    "Simply visit [ollama.com](https://ollama.com) and install!\n",
    "\n",
    "Once complete, the ollama server should already be running locally.  \n",
    "If you visit:  \n",
    "[http://localhost:11434/](http://localhost:11434/)\n",
    "\n",
    "You should see the message `Ollama is running`.  \n",
    "\n",
    "If not, bring up a new Terminal (Mac) or Powershell (Windows) and enter `ollama serve`  \n",
    "And in another Terminal (Mac) or Powershell (Windows), enter `ollama pull llama3.2`  \n",
    "Then try [http://localhost:11434/](http://localhost:11434/) again.\n",
    "\n",
    "If Ollama is slow on your machine, try using `llama3.2:1b` as an alternative. Run `ollama pull llama3.2:1b` from a Terminal or Powershell, and change the code below from `MODEL = \"llama3.2\"` to `MODEL = \"llama3.2:1b\"`"
   ]
  },
  {
   "cell_type": "markdown",
   "id": "1622d9bb-5c68-4d4e-9ca4-b492c751f898",
   "metadata": {},
   "source": [
    "# NOW the exercise for you\n",
    "\n",
    "Take the code from day1 and incorporate it here, to build a website summarizer that uses Llama 3.2 running locally instead of OpenAI; use either of the above approaches."
   ]
  },
  {
   "cell_type": "markdown",
   "id": "c41068a2-ab78-47ff-a182-3867906d938d",
   "metadata": {},
   "source": [
    "## Nick's answer"
   ]
  },
  {
   "cell_type": "markdown",
   "id": "9a654a32-5bfc-420b-a5a3-b87f4bfcfcd0",
   "metadata": {},
   "source": [
    "This is Nick's answer to the day2 EXERCISE for the course. \n",
    "\n",
    "At the end, I have a special treat, trying to allow the user to enter model & website via a UI in Jupyer."
   ]
  },
  {
   "cell_type": "code",
   "execution_count": 1,
   "id": "479ff514-e8bd-4985-a572-2ea28bb4fa40",
   "metadata": {
    "scrolled": true
   },
   "outputs": [
    {
     "name": "stderr",
     "output_type": "stream",
     "text": [
      "\u001b[?2026h\u001b[?25l\u001b[1Gpulling manifest â ‹ \u001b[K\u001b[?25h\u001b[?2026l\u001b[?2026h\u001b[?25l\u001b[1Gpulling manifest â ™ \u001b[K\u001b[?25h\u001b[?2026l\u001b[?2026h\u001b[?25l\u001b[1Gpulling manifest â ¹ \u001b[K\u001b[?25h\u001b[?2026l\u001b[?2026h\u001b[?25l\u001b[1Gpulling manifest â ¸ \u001b[K\u001b[?25h\u001b[?2026l\u001b[?2026h\u001b[?25l\u001b[1Gpulling manifest â ¼ \u001b[K\u001b[?25h\u001b[?2026l\u001b[?2026h\u001b[?25l\u001b[1Gpulling manifest â ´ \u001b[K\u001b[?25h\u001b[?2026l\u001b[?2026h\u001b[?25l\u001b[1Gpulling manifest \u001b[K\n",
      "pulling dde5aa3fc5ff... 100% â–•â–ˆâ–ˆâ–ˆâ–ˆâ–ˆâ–ˆâ–ˆâ–ˆâ–ˆâ–ˆâ–ˆâ–ˆâ–ˆâ–ˆâ–ˆâ–ˆâ–� 2.0 GB                         \u001b[K\n",
      "pulling 966de95ca8a6... 100% â–•â–ˆâ–ˆâ–ˆâ–ˆâ–ˆâ–ˆâ–ˆâ–ˆâ–ˆâ–ˆâ–ˆâ–ˆâ–ˆâ–ˆâ–ˆâ–ˆâ–� 1.4 KB                         \u001b[K\n",
      "pulling fcc5a6bec9da... 100% â–•â–ˆâ–ˆâ–ˆâ–ˆâ–ˆâ–ˆâ–ˆâ–ˆâ–ˆâ–ˆâ–ˆâ–ˆâ–ˆâ–ˆâ–ˆâ–ˆâ–� 7.7 KB                         \u001b[K\n",
      "pulling a70ff7e570d9... 100% â–•â–ˆâ–ˆâ–ˆâ–ˆâ–ˆâ–ˆâ–ˆâ–ˆâ–ˆâ–ˆâ–ˆâ–ˆâ–ˆâ–ˆâ–ˆâ–ˆâ–� 6.0 KB                         \u001b[K\n",
      "pulling 56bb8bd477a5... 100% â–•â–ˆâ–ˆâ–ˆâ–ˆâ–ˆâ–ˆâ–ˆâ–ˆâ–ˆâ–ˆâ–ˆâ–ˆâ–ˆâ–ˆâ–ˆâ–ˆâ–�   96 B                         \u001b[K\n",
      "pulling 34bb5ab01051... 100% â–•â–ˆâ–ˆâ–ˆâ–ˆâ–ˆâ–ˆâ–ˆâ–ˆâ–ˆâ–ˆâ–ˆâ–ˆâ–ˆâ–ˆâ–ˆâ–ˆâ–�  561 B                         \u001b[K\n",
      "verifying sha256 digest \u001b[K\n",
      "writing manifest \u001b[K\n",
      "success \u001b[K\u001b[?25h\u001b[?2026l\n"
     ]
    }
   ],
   "source": [
    "# Let's just make sure the model is loaded\n",
    "\n",
    "!ollama pull llama3.2"
   ]
  },
  {
   "cell_type": "code",
   "execution_count": 2,
   "id": "cf9eb44e-fe5b-47aa-b719-0bb63669ab3d",
   "metadata": {
    "scrolled": true
   },
   "outputs": [
    {
     "name": "stderr",
     "output_type": "stream",
     "text": [
      "\u001b[?2026h\u001b[?25l\u001b[1Gpulling manifest â ‹ \u001b[K\u001b[?25h\u001b[?2026l\u001b[?2026h\u001b[?25l\u001b[1Gpulling manifest â ™ \u001b[K\u001b[?25h\u001b[?2026l\u001b[?2026h\u001b[?25l\u001b[1Gpulling manifest \u001b[K\n",
      "pulling aabd4debf0c8... 100% â–•â–ˆâ–ˆâ–ˆâ–ˆâ–ˆâ–ˆâ–ˆâ–ˆâ–ˆâ–ˆâ–ˆâ–ˆâ–ˆâ–ˆâ–ˆâ–ˆâ–� 1.1 GB                         \u001b[K\n",
      "pulling 369ca498f347... 100% â–•â–ˆâ–ˆâ–ˆâ–ˆâ–ˆâ–ˆâ–ˆâ–ˆâ–ˆâ–ˆâ–ˆâ–ˆâ–ˆâ–ˆâ–ˆâ–ˆâ–�  387 B                         \u001b[K\n",
      "pulling 6e4c38e1172f... 100% â–•â–ˆâ–ˆâ–ˆâ–ˆâ–ˆâ–ˆâ–ˆâ–ˆâ–ˆâ–ˆâ–ˆâ–ˆâ–ˆâ–ˆâ–ˆâ–ˆâ–� 1.1 KB                         \u001b[K\n",
      "pulling f4d24e9138dd... 100% â–•â–ˆâ–ˆâ–ˆâ–ˆâ–ˆâ–ˆâ–ˆâ–ˆâ–ˆâ–ˆâ–ˆâ–ˆâ–ˆâ–ˆâ–ˆâ–ˆâ–�  148 B                         \u001b[K\n",
      "pulling a85fe2a2e58e... 100% â–•â–ˆâ–ˆâ–ˆâ–ˆâ–ˆâ–ˆâ–ˆâ–ˆâ–ˆâ–ˆâ–ˆâ–ˆâ–ˆâ–ˆâ–ˆâ–ˆâ–�  487 B                         \u001b[K\n",
      "verifying sha256 digest \u001b[K\n",
      "writing manifest \u001b[K\n",
      "success \u001b[K\u001b[?25h\u001b[?2026l\n"
     ]
    }
   ],
   "source": [
    "# now make sure deepseek is available via ollama as well. \n",
    "\n",
    "!ollama pull deepseek-r1:1.5b"
   ]
  },
  {
   "cell_type": "code",
   "execution_count": 3,
   "id": "6de38216-6d1c-48c4-877b-86d403f4e0f8",
   "metadata": {},
   "outputs": [],
   "source": [
    "# imports\n",
    "\n",
    "import os\n",
    "import requests\n",
    "from dotenv import load_dotenv\n",
    "from bs4 import BeautifulSoup\n",
    "from IPython.display import Markdown, display\n",
    "from openai import OpenAI"
   ]
  },
  {
   "cell_type": "markdown",
   "id": "ffba1a62-8125-4a09-a038-a71d3d8b6e0e",
   "metadata": {},
   "source": [
    "### create website scraping class"
   ]
  },
  {
   "cell_type": "code",
   "execution_count": 4,
   "id": "fca468ae-bdba-4e25-8ac8-b89d432d80fb",
   "metadata": {},
   "outputs": [],
   "source": [
    "# A class to represent a Webpage\n",
    "# If you're not familiar with Classes, check out the \"Intermediate Python\" notebook\n",
    "\n",
    "# Some websites need you to use proper headers when fetching them:\n",
    "headers = {\n",
    " \"User-Agent\": \"Mozilla/5.0 (Windows NT 10.0; Win64; x64) AppleWebKit/537.36 (KHTML, like Gecko) Chrome/117.0.0.0 Safari/537.36\"\n",
    "}\n",
    "\n",
    "class Website:\n",
    "\n",
    "    def __init__(self, url):\n",
    "        \"\"\"\n",
    "        Create this Website object from the given url using the BeautifulSoup library\n",
    "        \"\"\"\n",
    "        self.url = url\n",
    "        response = requests.get(url, headers=headers)\n",
    "        soup = BeautifulSoup(response.content, 'html.parser')\n",
    "        self.title = soup.title.string if soup.title else \"No title found\"\n",
    "        for irrelevant in soup.body([\"script\", \"style\", \"img\", \"input\"]):\n",
    "            irrelevant.decompose()\n",
    "        self.text = soup.body.get_text(separator=\"\\n\", strip=True)"
   ]
  },
  {
   "cell_type": "code",
   "execution_count": 5,
   "id": "04c3a98b-2435-4084-a657-066db86734be",
   "metadata": {
    "scrolled": true
   },
   "outputs": [
    {
     "name": "stdout",
     "output_type": "stream",
     "text": [
      "Home - Edward Donner\n",
      "Home\n",
      "Connect Four\n",
      "Outsmart\n",
      "An arena that pits LLMs against each other in a battle of diplomacy and deviousness\n",
      "About\n",
      "Posts\n",
      "Well, hi there.\n",
      "I’m Ed. I like writing code and experimenting with LLMs, and hopefully you’re here because you do too. I also enjoy DJing (but I’m badly out of practice), amateur electronic music production (\n",
      "very\n",
      "amateur) and losing myself in\n",
      "Hacker News\n",
      ", nodding my head sagely to things I only half understand.\n",
      "I’m the co-founder and CTO of\n",
      "Nebula.io\n",
      ". We’re applying AI to a field where it can make a massive, positive impact: helping people discover their potential and pursue their reason for being. Recruiters use our product today to source, understand, engage and manage talent. I’m previously the founder and CEO of AI startup untapt,\n",
      "acquired in 2021\n",
      ".\n",
      "We work with groundbreaking, proprietary LLMs verticalized for talent, we’ve\n",
      "patented\n",
      "our matching model, and our award-winning platform has happy customers and tons of press coverage.\n",
      "Connect\n",
      "with me for more!\n",
      "January 23, 2025\n",
      "LLM Workshop – Hands-on with Agents – resources\n",
      "December 21, 2024\n",
      "Welcome, SuperDataScientists!\n",
      "November 13, 2024\n",
      "Mastering AI and LLM Engineering – Resources\n",
      "October 16, 2024\n",
      "From Software Engineer to AI Data Scientist – resources\n",
      "Navigation\n",
      "Home\n",
      "Connect Four\n",
      "Outsmart\n",
      "An arena that pits LLMs against each other in a battle of diplomacy and deviousness\n",
      "About\n",
      "Posts\n",
      "Get in touch\n",
      "ed [at] edwarddonner [dot] com\n",
      "www.edwarddonner.com\n",
      "Follow me\n",
      "LinkedIn\n",
      "Twitter\n",
      "Facebook\n",
      "Subscribe to newsletter\n",
      "Type your email…\n",
      "Subscribe\n"
     ]
    }
   ],
   "source": [
    "# test\n",
    "\n",
    "ed = Website(\"https://edwarddonner.com\")\n",
    "print(ed.title)\n",
    "print(ed.text)"
   ]
  },
  {
   "cell_type": "code",
   "execution_count": 6,
   "id": "31c412b6-48fc-451a-b59d-f0f34017f710",
   "metadata": {},
   "outputs": [],
   "source": [
    "# Define our system prompt - you can experiment with this later, changing the last sentence to 'Respond in markdown in Spanish.\"\n",
    "\n",
    "system_prompt = \"You are an assistant that analyzes the contents of a website \\\n",
    "and provides a short summary, ignoring text that might be navigation related. \\\n",
    "Respond in markdown.\"\n"
   ]
  },
  {
   "cell_type": "code",
   "execution_count": 7,
   "id": "fcb56bc2-0fec-4c53-b035-b0e5ed473902",
   "metadata": {},
   "outputs": [],
   "source": [
    "# A function that writes a User Prompt that asks for summaries of websites:\n",
    "\n",
    "def user_prompt_for(website):\n",
    "    user_prompt = f\"You are looking at a website titled {website.title}\"\n",
    "    user_prompt += \"\\nThe contents of this website is as follows; \\\n",
    "please provide a short summary of this website in markdown. \\\n",
    "If it includes news or announcements, then summarize these too.\\n\\n\"\n",
    "    user_prompt += website.text\n",
    "    return user_prompt"
   ]
  },
  {
   "cell_type": "code",
   "execution_count": 8,
   "id": "a299923d-1e91-4234-9496-3c15d2f121fc",
   "metadata": {},
   "outputs": [
    {
     "data": {
      "text/plain": [
       "'You are looking at a website titled Home - Edward Donner\\nThe contents of this website is as follows; please provide a short summary of this website in markdown. If it includes news or announcements, then summarize these too.\\n\\nHome\\nConnect Four\\nOutsmart\\nAn arena that pits LLMs against each other in a battle of diplomacy and deviousness\\nAbout\\nPosts\\nWell, hi there.\\nI’m Ed. I like writing code and experimenting with LLMs, and hopefully you’re here because you do too. I also enjoy DJing (but I’m badly out of practice), amateur electronic music production (\\nvery\\namateur) and losing myself in\\nHacker News\\n, nodding my head sagely to things I only half understand.\\nI’m the co-founder and CTO of\\nNebula.io\\n. We’re applying AI to a field where it can make a massive, positive impact: helping people discover their potential and pursue their reason for being. Recruiters use our product today to source, understand, engage and manage talent. I’m previously the founder and CEO of AI startup untapt,\\nacquired in 2021\\n.\\nWe work with groundbreaking, proprietary LLMs verticalized for talent, we’ve\\npatented\\nour matching model, and our award-winning platform has happy customers and tons of press coverage.\\nConnect\\nwith me for more!\\nJanuary 23, 2025\\nLLM Workshop – Hands-on with Agents – resources\\nDecember 21, 2024\\nWelcome, SuperDataScientists!\\nNovember 13, 2024\\nMastering AI and LLM Engineering – Resources\\nOctober 16, 2024\\nFrom Software Engineer to AI Data Scientist – resources\\nNavigation\\nHome\\nConnect Four\\nOutsmart\\nAn arena that pits LLMs against each other in a battle of diplomacy and deviousness\\nAbout\\nPosts\\nGet in touch\\ned [at] edwarddonner [dot] com\\nwww.edwarddonner.com\\nFollow me\\nLinkedIn\\nTwitter\\nFacebook\\nSubscribe to newsletter\\nType your email…\\nSubscribe'"
      ]
     },
     "execution_count": 8,
     "metadata": {},
     "output_type": "execute_result"
    }
   ],
   "source": [
    "# test\n",
    "\n",
    "user_prompt_for(ed)"
   ]
  },
  {
   "cell_type": "code",
   "execution_count": 9,
   "id": "4c62bb71-6a56-4d0a-9588-cf687bdbc334",
   "metadata": {},
   "outputs": [],
   "source": [
    "def messages_for(website):\n",
    "    return [\n",
    "        {\"role\": \"system\", \"content\": system_prompt},\n",
    "        {\"role\": \"user\", \"content\": user_prompt_for(website)}\n",
    "    ]"
   ]
  },
  {
   "cell_type": "code",
   "execution_count": 10,
   "id": "7eb14f3b-4b8e-4e5b-ba2a-73d21c304e50",
   "metadata": {},
   "outputs": [
    {
     "data": {
      "text/plain": [
       "[{'role': 'system',\n",
       "  'content': 'You are an assistant that analyzes the contents of a website and provides a short summary, ignoring text that might be navigation related. Respond in markdown.'},\n",
       " {'role': 'user',\n",
       "  'content': 'You are looking at a website titled Home - Edward Donner\\nThe contents of this website is as follows; please provide a short summary of this website in markdown. If it includes news or announcements, then summarize these too.\\n\\nHome\\nConnect Four\\nOutsmart\\nAn arena that pits LLMs against each other in a battle of diplomacy and deviousness\\nAbout\\nPosts\\nWell, hi there.\\nI’m Ed. I like writing code and experimenting with LLMs, and hopefully you’re here because you do too. I also enjoy DJing (but I’m badly out of practice), amateur electronic music production (\\nvery\\namateur) and losing myself in\\nHacker News\\n, nodding my head sagely to things I only half understand.\\nI’m the co-founder and CTO of\\nNebula.io\\n. We’re applying AI to a field where it can make a massive, positive impact: helping people discover their potential and pursue their reason for being. Recruiters use our product today to source, understand, engage and manage talent. I’m previously the founder and CEO of AI startup untapt,\\nacquired in 2021\\n.\\nWe work with groundbreaking, proprietary LLMs verticalized for talent, we’ve\\npatented\\nour matching model, and our award-winning platform has happy customers and tons of press coverage.\\nConnect\\nwith me for more!\\nJanuary 23, 2025\\nLLM Workshop – Hands-on with Agents – resources\\nDecember 21, 2024\\nWelcome, SuperDataScientists!\\nNovember 13, 2024\\nMastering AI and LLM Engineering – Resources\\nOctober 16, 2024\\nFrom Software Engineer to AI Data Scientist – resources\\nNavigation\\nHome\\nConnect Four\\nOutsmart\\nAn arena that pits LLMs against each other in a battle of diplomacy and deviousness\\nAbout\\nPosts\\nGet in touch\\ned [at] edwarddonner [dot] com\\nwww.edwarddonner.com\\nFollow me\\nLinkedIn\\nTwitter\\nFacebook\\nSubscribe to newsletter\\nType your email…\\nSubscribe'}]"
      ]
     },
     "execution_count": 10,
     "metadata": {},
     "output_type": "execute_result"
    }
   ],
   "source": [
    "#test\n",
    "\n",
    "messages_for(ed)"
   ]
  },
  {
   "cell_type": "code",
   "execution_count": 13,
   "id": "fdd95022-5f63-4829-9f34-c8f1b4f5969d",
   "metadata": {},
   "outputs": [],
   "source": [
    "# And now: call the OpenAI API. You will get very familiar with this!\n",
    "MODEL = \"llama3.2\"\n",
    "\n",
    "def summarize(url):\n",
    "    ollama_via_openai = OpenAI(base_url='http://localhost:11434/v1', api_key='ollama')\n",
    "    website = Website(url)\n",
    "    response = ollama_via_openai.chat.completions.create(\n",
    "        model=MODEL,\n",
    "        messages=messages_for(website)\n",
    "    ) \n",
    "    return response.choices[0].message.content"
   ]
  },
  {
   "cell_type": "code",
   "execution_count": 14,
   "id": "0b57b396-e3fb-4e3a-8656-a7944b6bc2e0",
   "metadata": {
    "scrolled": true
   },
   "outputs": [],
   "source": [
    "content = summarize(\"https://edwarddonner.com\")\n",
    "content"
   ]
  },
  {
   "cell_type": "code",
   "execution_count": 15,
   "id": "116461fe-5caf-4a64-889e-ebb6fd216c8f",
   "metadata": {
    "scrolled": true
   },
   "outputs": [
    {
     "data": {
      "text/markdown": [
       "# Website Summary\n",
       "### Edward Donner's Website\n",
       "\n",
       "This website is primarily the personal blog of Ed, a computer scientist and tech enthusiast. The content includes:\n",
       "\n",
       "*   Information about Ed's work with AI, including his experience as co-founder and CTO of Nebula.io.\n",
       "*   Updates on projects, such as LLM (Large Language Model) workshops, training programs for software engineers turning into AI data scientists, and other events related to artificial intelligence.\n",
       "*   Social media links where Ed shares updates."
      ],
      "text/plain": [
       "<IPython.core.display.Markdown object>"
      ]
     },
     "metadata": {},
     "output_type": "display_data"
    }
   ],
   "source": [
    "from IPython.display import display, Markdown\n",
    "display(Markdown(content))"
   ]
  },
  {
   "cell_type": "code",
   "execution_count": 16,
   "id": "d3d5d979-db12-4717-8475-6fd1ff5f2a98",
   "metadata": {},
   "outputs": [],
   "source": [
    "# move model as an input to the function, the llama3.2 model is given by default.\n",
    "\n",
    "def summarize(url, model=\"llama3.2\"):\n",
    "    ollama_via_openai = OpenAI(base_url='http://localhost:11434/v1', api_key='ollama')\n",
    "\n",
    "    website = Website(url)\n",
    "    response = ollama_via_openai.chat.completions.create(\n",
    "        model=model,\n",
    "        messages=messages_for(website)\n",
    "    ) \n",
    "    return response.choices[0].message.content"
   ]
  },
  {
   "cell_type": "code",
   "execution_count": 17,
   "id": "1adeeba6-37f7-4f4a-b5a9-b04b4aa2610e",
   "metadata": {},
   "outputs": [
    {
     "data": {
      "text/plain": [
       "'**Website Summary**\\n-------------------\\n\\n### Description\\nThe website is a personal blog hosted on Edward Donner, a developer and entrepreneur with experience in AI and LLMs. The site features Ed\\'s thoughts on code, DJing, and technology trends.\\n\\n### News and Announcements\\n#### Recent Posts\\n* January 23, 2025: **LLM Workshop – Hands-on with Agents** - a workshop for learning about agents in LLMs\\n* December 21, 2024: Welcome message to SuperDataScientists readers\\n* November 13, 2024: Introduction to Mastering AI and LLM Engineering resources\\n* October 16, 2024: Resources for transitioning from software engineer to AI data scientist\\n\\n#### Updates on Ed\\'s Experience\\n* Co-founder and CTO at Nebula.io, applying AI to help people discover their potential\\n* Founder and CEO of AI startup untapt (acquired in 2021)\\n\\nNote: No other updates or news are available as the \"Get in touch\" section does not contain any significant information.'"
      ]
     },
     "execution_count": 17,
     "metadata": {},
     "output_type": "execute_result"
    }
   ],
   "source": [
    "# test without an input to the model, assume model = llama3.2\n",
    "content = summarize(\"https://edwarddonner.com\")\n",
    "content"
   ]
  },
  {
   "cell_type": "code",
   "execution_count": 18,
   "id": "553bc37b-a20a-489b-a3c4-653a4eafcb24",
   "metadata": {
    "scrolled": true
   },
   "outputs": [
    {
     "data": {
      "text/markdown": [
       "**Website Summary**\n",
       "-------------------\n",
       "\n",
       "### Description\n",
       "The website is a personal blog hosted on Edward Donner, a developer and entrepreneur with experience in AI and LLMs. The site features Ed's thoughts on code, DJing, and technology trends.\n",
       "\n",
       "### News and Announcements\n",
       "#### Recent Posts\n",
       "* January 23, 2025: **LLM Workshop – Hands-on with Agents** - a workshop for learning about agents in LLMs\n",
       "* December 21, 2024: Welcome message to SuperDataScientists readers\n",
       "* November 13, 2024: Introduction to Mastering AI and LLM Engineering resources\n",
       "* October 16, 2024: Resources for transitioning from software engineer to AI data scientist\n",
       "\n",
       "#### Updates on Ed's Experience\n",
       "* Co-founder and CTO at Nebula.io, applying AI to help people discover their potential\n",
       "* Founder and CEO of AI startup untapt (acquired in 2021)\n",
       "\n",
       "Note: No other updates or news are available as the \"Get in touch\" section does not contain any significant information."
      ],
      "text/plain": [
       "<IPython.core.display.Markdown object>"
      ]
     },
     "metadata": {},
     "output_type": "display_data"
    }
   ],
   "source": [
    "from IPython.display import display, Markdown\n",
    "display(Markdown(content))"
   ]
  },
  {
   "cell_type": "code",
   "execution_count": 21,
   "id": "05be6688-762f-4c86-aa58-210eee4ec4bd",
   "metadata": {},
   "outputs": [
    {
     "data": {
      "text/plain": [
       "'<think>\\nAlright, I need to create a short summary of this website. Let\\'s look at it.\\n\\nFirst, the website is titled Home - Edward Donner, which probably means it\\'s focused on something related to education or maybe personal branding through some \"Home\" tag. \\n\\nThe main sections are About and Posts. The About section seems to list various things like a blog about programming, electronic music production—I guess that’s music-related because of \"amateur.\" It also mentions Discover Your Potential, which sounds like it\\'s about discovering one\\'s own interests or goals. They mention topics like AI, LLMs (Large Language Models), job opportunities, career advice, and more.\\n\\nThe Posts section has a bunch of dates in 2024 and 2025: January 23, December 21, November 13, October 16, and some other random dates. That’s a lot for a single platform—maybe they do posts frequently or have a theme.\\n\\nThe website also includes navigation links, but the text is provided in the header, so perhaps \"Connect Four,\" \"Outsmart,\" and other sections aren\\'t as prominent. The footer links to HN (Hellman News & Information), which is common for tech-related sites.\\n\\nKey features mentioned: it\\'s a platform where companies use LLMs (Large Language Models) in AI battles. They work with profitable LLMs, possibly due to being proprietary. They’ve done workshops and have resources linked under each date. There’s a newsletter subscription, so they likely care about audience engagement.\\n\\nSo the main points are: it\\'s a tech site focused on AI and LLMs, runs from 2024–2025, with frequent posts, educational content, career advice sections, and includes profitability info.\\n</think>\\n\\nThe website is a technology-focused platform highlighting the use of Large Language Models (LLMs) and AI in competitive settings. It covers topics such as discovering one\\'s potential, job opportunities, career advice, and AI-driven problem-solving. The site includes frequent updates with content relevant to these areas, featuring educational sections on programming and music production. Additionally, it showcases profitable LLM applications and features a newsletter subscription for engagement.'"
      ]
     },
     "execution_count": 21,
     "metadata": {},
     "output_type": "execute_result"
    }
   ],
   "source": [
    "# now try it out with deepdeak\n",
    "\n",
    "model=\"deepseek-r1:1.5b\"\n",
    "content = summarize(\"https://edwarddonner.com\", model)\n",
    "content"
   ]
  },
  {
   "cell_type": "code",
   "execution_count": 22,
   "id": "f48b643b-633a-406e-8c52-b718b3fe3db0",
   "metadata": {
    "scrolled": true
   },
   "outputs": [
    {
     "data": {
      "text/markdown": [
       "<think>\n",
       "Alright, I need to create a short summary of this website. Let's look at it.\n",
       "\n",
       "First, the website is titled Home - Edward Donner, which probably means it's focused on something related to education or maybe personal branding through some \"Home\" tag. \n",
       "\n",
       "The main sections are About and Posts. The About section seems to list various things like a blog about programming, electronic music production—I guess that’s music-related because of \"amateur.\" It also mentions Discover Your Potential, which sounds like it's about discovering one's own interests or goals. They mention topics like AI, LLMs (Large Language Models), job opportunities, career advice, and more.\n",
       "\n",
       "The Posts section has a bunch of dates in 2024 and 2025: January 23, December 21, November 13, October 16, and some other random dates. That’s a lot for a single platform—maybe they do posts frequently or have a theme.\n",
       "\n",
       "The website also includes navigation links, but the text is provided in the header, so perhaps \"Connect Four,\" \"Outsmart,\" and other sections aren't as prominent. The footer links to HN (Hellman News & Information), which is common for tech-related sites.\n",
       "\n",
       "Key features mentioned: it's a platform where companies use LLMs (Large Language Models) in AI battles. They work with profitable LLMs, possibly due to being proprietary. They’ve done workshops and have resources linked under each date. There’s a newsletter subscription, so they likely care about audience engagement.\n",
       "\n",
       "So the main points are: it's a tech site focused on AI and LLMs, runs from 2024–2025, with frequent posts, educational content, career advice sections, and includes profitability info.\n",
       "</think>\n",
       "\n",
       "The website is a technology-focused platform highlighting the use of Large Language Models (LLMs) and AI in competitive settings. It covers topics such as discovering one's potential, job opportunities, career advice, and AI-driven problem-solving. The site includes frequent updates with content relevant to these areas, featuring educational sections on programming and music production. Additionally, it showcases profitable LLM applications and features a newsletter subscription for engagement."
      ],
      "text/plain": [
       "<IPython.core.display.Markdown object>"
      ]
     },
     "metadata": {},
     "output_type": "display_data"
    }
   ],
   "source": [
    "from IPython.display import display, Markdown\n",
    "display(Markdown(content))"
   ]
  },
  {
   "cell_type": "markdown",
   "id": "c4fed5ca-b71a-49ba-84a3-c4686ae0500a",
   "metadata": {},
   "source": [
    "# Create a simple interface to select model & website\n",
    "\n",
    "Now, let's create a gui to select the model and the website\n",
    "We'll use ipywidgets. I see it's already in the requirements file, so I'm assuming it's already installed in the environment\n",
    "(I'm using venv locally, but I also assume it's in the conda env most are using).\n"
   ]
  },
  {
   "cell_type": "code",
   "execution_count": 32,
   "id": "69dc407c-2f76-431b-ba2e-76196e147bc0",
   "metadata": {},
   "outputs": [
    {
     "data": {
      "application/vnd.jupyter.widget-view+json": {
       "model_id": "a119cc89643745ff87f628e176dc7867",
       "version_major": 2,
       "version_minor": 0
      },
      "text/plain": [
       "VBox(children=(Dropdown(description='Model:', options=('llama3.2', 'deepseek-r1:1.5b'), value='llama3.2'), Tex…"
      ]
     },
     "metadata": {},
     "output_type": "display_data"
    }
   ],
   "source": [
    "from ipywidgets import interact\n",
    "\n",
    "import ipywidgets as widgets\n",
    "from IPython.display import display\n",
    "from ipywidgets import Output\n",
    "from IPython.display import display, Markdown\n",
    "\n",
    "\n",
    "\n",
    "# Function to summarize website using input\n",
    "def summarize_website_and_print(model_dropdown_value, website_textbox_value):\n",
    "    return summarize(website_textbox_value, model_dropdown_value)\n",
    "\n",
    "# Create the widgets\n",
    "model_dropdown = widgets.Dropdown(\n",
    "    options=[\"llama3.2\", \"deepseek-r1:1.5b\"],\n",
    "    description='Model:'\n",
    ")\n",
    "website_textbox = widgets.Text(description='Website:',value=\"https://edwarddonner.com\")\n",
    "button = widgets.Button(description=\"Summarize website\")\n",
    "output = Output()\n",
    "\n",
    "# Function to call when the button is clicked\n",
    "def on_button_clicked(b):\n",
    "    with output:\n",
    "        output.clear_output()\n",
    "        print(f\"Model selected: {model_dropdown.value}, Website being summarized: {website_textbox.value}\")\n",
    "        print(f\"Please be patient while retrieving & summarizing the website.\")\n",
    "        content = summarize_website_and_print(model_dropdown_value=model_dropdown.value, website_textbox_value=website_textbox.value)\n",
    "        print(content)\n",
    "        print(f\"In Markdown format\")\n",
    "        display(Markdown(content))\n",
    "\n",
    "# Link the button click event to the function\n",
    "button.on_click(on_button_clicked)\n",
    "\n",
    "# Display the widgets\n",
    "ui = widgets.VBox([model_dropdown, website_textbox, button, output])\n",
    "display(ui)\n"
   ]
  },
  {
   "cell_type": "code",
   "execution_count": null,
   "id": "d949c254-2e71-4a4a-934d-0f4b259119ec",
   "metadata": {},
   "outputs": [],
   "source": []
  }
 ],
 "metadata": {
  "kernelspec": {
   "display_name": "Python 3 (ipykernel)",
   "language": "python",
   "name": "python3"
  },
  "language_info": {
   "codemirror_mode": {
    "name": "ipython",
    "version": 3
   },
   "file_extension": ".py",
   "mimetype": "text/x-python",
   "name": "python",
   "nbconvert_exporter": "python",
   "pygments_lexer": "ipython3",
   "version": "3.11.3"
  }
 },
 "nbformat": 4,
 "nbformat_minor": 5
}
